{
 "cells": [
  {
   "cell_type": "markdown",
   "id": "52679a47-33a6-4e85-a1ea-86bca403aa00",
   "metadata": {},
   "source": [
    "# Obtención de datos - API REE"
   ]
  },
  {
   "cell_type": "markdown",
   "id": "1badd19f-3bb2-452b-b72d-6fa2c5de21da",
   "metadata": {},
   "source": [
    "Importante:\n",
    "\n",
    "La plataforma Microsoft Fabric transforma los datos en formato Json a formato tabular de manera automatica. Por ello, este notebook no \n",
    "maneja una forma de estructurar los datos. Con la url es suficiente."
   ]
  },
  {
   "cell_type": "markdown",
   "id": "16483915-2447-4aa0-bc43-ee7228cd4814",
   "metadata": {},
   "source": [
    "En primer lugar, creamos un programa que nos genere un excel con el id de cada uno de los indicadores \n",
    "para los que Red Electrica ofrece información."
   ]
  },
  {
   "cell_type": "code",
   "execution_count": null,
   "id": "294a2c7a-6e41-4b2b-94c6-b0b9b2c7cb49",
   "metadata": {},
   "outputs": [],
   "source": [
    "import pandas as pd\n",
    "import requests\n",
    "\n",
    "#Codigo para obtener los id de los indicadores\n",
    "\n",
    "#Para ver todas las filas de nuestro df\n",
    "pd.set_option('display.max.rows', 2000)\n",
    "\n",
    "#Token ESIOS (introducir tu propio token)\n",
    "esios_token = ''  #Solicitado a REE\n",
    "\n",
    "# Url base\n",
    "address = \"https://api.esios.ree.es/indicators\"\n",
    "\n",
    "# Llamada a la API y construccion de json\n",
    "resp = requests.get(address, headers={'x-api-key' : '%s' %(esios_token),\n",
    "                                             'Authorization' : 'Token token=%s' %(esios_token)}).json()\n",
    "\n",
    "#Creamos dos listas vacías donde incorporar los datos del bucle for\n",
    "name = []\n",
    "id = []\n",
    "\n",
    "# Bucle para rellenar las dos listas anteriores con los datos del nombre y el id de los indicadores de REE.\n",
    "for i in range(0, len(resp['indicators'])):\n",
    "    name.append(resp['indicators'][i]['name'])\n",
    "    id.append(resp['indicators'][i]['id'])\n",
    "\n",
    "# Creamos un df a partir de las listas anteriores\n",
    "indicadores = pd.DataFrame({'nombre': name, 'id': id})\n",
    "\n",
    "print(indicadores)\n",
    "\n",
    "indicadores.to_excel(\"./lista_esios_indicadores.xlsx\")"
   ]
  },
  {
   "cell_type": "markdown",
   "id": "d38e2938-58d6-48c6-ad56-ce3c2c427c37",
   "metadata": {},
   "source": [
    "El excel se genera por defecto en el directorio donde tengas guardado el Notebook"
   ]
  },
  {
   "cell_type": "markdown",
   "id": "e9ccc9f2-2d5e-40f7-a820-b9b325a37d89",
   "metadata": {},
   "source": [
    "## Programa con todos los inputs"
   ]
  },
  {
   "cell_type": "markdown",
   "id": "894f3e02-2b88-44aa-a1d5-eba0942898c1",
   "metadata": {},
   "source": [
    "Una vez conocemos los parametros necesarios para obtener nuestro indicador, tenemos que crear un programa que nos permita \n",
    "generar la url necesaria en cada caso.\n",
    "\n",
    "En este sentido creamos un primer programa personalizable, capaz de obtener una url distinta en cada caso.\n",
    "Convertimos también en json para observar si los datos que extraemos son los necesarios."
   ]
  },
  {
   "cell_type": "code",
   "execution_count": null,
   "id": "59ae9bff-88e3-4ffd-8d6b-015653d6948f",
   "metadata": {},
   "outputs": [],
   "source": [
    "# Este programa nos permite formar la url que necesitemos en cada caso.\n",
    "\n",
    "import requests as rq\n",
    "\n",
    "# Parametros para constrir la url\n",
    "esios_token = ''\n",
    "url_base = 'https://api.esios.ree.es/indicators'\n",
    "indicador = input('introduce el id del indicador: ') + '?'\n",
    "start_date = 'start_date=' + input('Fecha inicial Formato Y-M-D: ') + 'T24:00:00Z'\n",
    "end_date = 'end_date=' + input('Fecha final Formato Y-M-D: ') + 'T24:00:00Z'\n",
    "time_trunc = 'time_trunc=' + input('five_minutes, ten_minutes, fifteen_minutes, hour, day, month, year: ')\n",
    "time_agg = 'time_agg=' + input('sum,average: ')\n",
    "geo_ids = 'geo_ids[]=' + input('geo_id: ')\n",
    "geo_trunc = 'geo_trunc=' + input('country, electric_system, autonomous_community, province, electric_subsystem, town and drainage_basin: ')\n",
    "\n",
    "#Construccion de url\n",
    "url_api = url_base + '/' + indicador + start_date + '&' + end_date + '&' + time_trunc + '&' + time_agg  + '&' + geo_ids + '&'+ geo_trunc\n",
    "print(url_api)\n",
    "json_file = rq.get(url_api, headers={'x-api-key' : '%s' %(esios_token),\n",
    "                                             'Authorization' : 'Token token=%s' %(esios_token)}).json()\n",
    "print(json_file)"
   ]
  },
  {
   "cell_type": "markdown",
   "id": "445a7d9d-2c4c-41e5-baea-f29c202d6d8e",
   "metadata": {},
   "source": [
    "## Indicador 1001"
   ]
  },
  {
   "cell_type": "markdown",
   "id": "9ebf0bad-28d5-41ea-a191-fecddc3380a0",
   "metadata": {},
   "source": [
    "En nuestro caso, deseamos obtener el indicador 1001 para la península ibérica (sin Portugal).\n",
    "Nota: El precio PVPc es el mismo en todo el territorio nacional\n",
    "\n",
    "Podemos comentar y descomentar en la medida que lo necesitemos\n",
    "\n",
    "En este caso, los parametros que debemos determinar son los siguientes:\n",
    "\n",
    "indicador = 1001\n",
    "\n",
    "start_date = 2023-01-01\n",
    "\n",
    "end_date = None para actualizar la informacion periodicamente y obtener siempre los últimos datos disponibles\n",
    "\n",
    "time_trunc =  hour (para calcular spread del pvpc)\n",
    "\n",
    "time_agg = average\n",
    "\n",
    "geo_ids = 8741 (para obtener datos de la península)"
   ]
  },
  {
   "cell_type": "code",
   "execution_count": null,
   "id": "4ac0f5c4-bd6b-4c35-8ce4-02a15a828f68",
   "metadata": {},
   "outputs": [],
   "source": [
    "# Indicador 1001 con geo_id = 8741 (peninsula)\n",
    "# Generamos el json para verificar los datos\n",
    "\n",
    "import requests as rq\n",
    "\n",
    "# Parametros para constrir la url\n",
    "esios_token = ''\n",
    "url_base = 'https://api.esios.ree.es/indicators'\n",
    "indicador = input('introduce el id del indicador: ') + '?'\n",
    "start_date = 'start_date=' + input('Fecha inicial Formato Y-M-D: ') + 'T24:00:00Z'\n",
    "# end_date = 'end_date=' + input('Fecha final Formato Y-M-D: ') + 'T24:00:00Z'\n",
    "time_trunc = 'time_trunc=' + input('five_minutes, ten_minutes, fifteen_minutes, hour, day, month, year: ')\n",
    "time_agg = 'time_agg=' + input('sum,average: ')\n",
    "geo_ids = 'geo_ids[]=' + input('geo_id: ' )\n",
    "# geo_trunc = 'geo_trunc=' + input('country, electric_system, autonomous_community, province, electric_subsystem, town and drainage_basin: ')\n",
    "\n",
    "#Construccion de url\n",
    "url_api = url_base + '/' + indicador + start_date  + '&' + time_trunc + '&' + time_agg + '&' + geo_ids\n",
    "print(url_api)\n",
    "\n",
    "#Obtención del json\n",
    "json_file = rq.get(url_api, headers={'x-api-key' : '%s' %(esios_token),\n",
    "                                             'Authorization' : 'Token token=%s' %(esios_token)}).json()\n",
    "print(json_file)"
   ]
  },
  {
   "cell_type": "markdown",
   "id": "ff364828-c21d-4db3-9b9e-5546923363f7",
   "metadata": {},
   "source": [
    "Una vez hemos obtenido la url necesaria y hemos comprobado que los datos son correctos, es hora de importar la dirección\n",
    "en Microsoft Fabric."
   ]
  }
 ],
 "metadata": {
  "kernelspec": {
   "display_name": "Python 3 (ipykernel)",
   "language": "python",
   "name": "python3"
  },
  "language_info": {
   "codemirror_mode": {
    "name": "ipython",
    "version": 3
   },
   "file_extension": ".py",
   "mimetype": "text/x-python",
   "name": "python",
   "nbconvert_exporter": "python",
   "pygments_lexer": "ipython3",
   "version": "3.10.7"
  }
 },
 "nbformat": 4,
 "nbformat_minor": 5
}
